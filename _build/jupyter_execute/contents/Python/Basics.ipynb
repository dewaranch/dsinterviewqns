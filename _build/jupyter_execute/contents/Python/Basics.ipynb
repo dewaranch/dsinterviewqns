{
 "cells": [
  {
   "cell_type": "markdown",
   "id": "6c93b505",
   "metadata": {},
   "source": [
    "## Basics"
   ]
  },
  {
   "cell_type": "markdown",
   "id": "1af83067",
   "metadata": {},
   "source": [
    "### Questions"
   ]
  },
  {
   "cell_type": "markdown",
   "id": "80d63dcd",
   "metadata": {},
   "source": [
    "```{admonition} Problem: Palindrome Checker\n",
    ":class: dropdown, tip\n",
    "\n",
    "**Asked By - SNAPCHAT**\n",
    "\n",
    "Given a string, determine whether any permutation of it is a palindrome.\n",
    "\n",
    "For example, carerac should return true, since it can be rearranged to form racecar, which is a palindrome. sunset should return false, since there's no rearrangement that can form a palindrome.\n",
    "```"
   ]
  },
  {
   "cell_type": "code",
   "execution_count": 1,
   "id": "e34ad408",
   "metadata": {
    "tags": [
     "hide-cell"
    ]
   },
   "outputs": [
    {
     "name": "stdout",
     "output_type": "stream",
     "text": [
      "True\n",
      "False\n"
     ]
    }
   ],
   "source": [
    "# A string can be a palindrome only if it has even pair of characters and at max 1 odd character\n",
    "\n",
    "\n",
    "def palindrome_checker(txt):\n",
    "        temp = {}\n",
    "        odd_count = 0\n",
    "        even_count = 0\n",
    "        for i in (txt): # Storing characters and their count\n",
    "            if i in temp.keys():\n",
    "                temp[i] = temp[i] + 1\n",
    "            else:\n",
    "                temp[i] = 1\n",
    "        for i in temp: # Check count of characters\n",
    "            if temp[i]%2==0:\n",
    "                even_count = even_count + 1\n",
    "            else:\n",
    "                odd_count = odd_count + 1\n",
    "        if((odd_count>1)or(even_count==0)):\n",
    "            return False\n",
    "        else:\n",
    "            return True    \n",
    "\n",
    "print(palindrome_checker(\"carerac\"))\n",
    "print(palindrome_checker(\"sunset\"))"
   ]
  },
  {
   "cell_type": "markdown",
   "id": "25959703",
   "metadata": {},
   "source": [
    "```{admonition} Problem: Pattern Generation\n",
    ":class: dropdown, tip\n",
    "Write a function to generate this pattern:\\\n",
    "1\\\n",
    "2 3\\\n",
    "4 5 6\n",
    "\n",
    "Now change the code to output\\\n",
    "1\\\n",
    "1 2\\\n",
    "1 2 3\n",
    "```"
   ]
  },
  {
   "cell_type": "code",
   "execution_count": 27,
   "id": "4362171f",
   "metadata": {
    "tags": [
     "hide-cell"
    ]
   },
   "outputs": [
    {
     "name": "stdout",
     "output_type": "stream",
     "text": [
      " \n",
      "1  \n",
      "2 3  \n",
      "4 5 6  \n"
     ]
    }
   ],
   "source": [
    "def pyramid(n):\n",
    "    i = 1\n",
    "    j = 1\n",
    "    while i < n:\n",
    "        for k in range(1,j):\n",
    "            print(i, end=' ') # For the second pattern change i to k\n",
    "            i += 1\n",
    "        print(\" \") \n",
    "        j +=1\n",
    "\n",
    "pyramid(6)"
   ]
  },
  {
   "cell_type": "markdown",
   "id": "126ce615",
   "metadata": {},
   "source": [
    "```{admonition} Problem: Sum to N\n",
    ":class: dropdown, tip\n",
    "**Asked By - UBER**\n",
    "Given a list of integers, find all combinations that equal the value N.\n",
    "\n",
    "Example: \n",
    "\n",
    "integers = [2,3,5], target = 8,\n",
    "\n",
    "output = [[2,2,2,2],[2,3,3],[3,5]]\n",
    "```"
   ]
  },
  {
   "cell_type": "code",
   "execution_count": 79,
   "id": "2895d823",
   "metadata": {
    "tags": [
     "hide-cell"
    ]
   },
   "outputs": [
    {
     "data": {
      "text/plain": [
       "[[2, 2, 2, 2], [2, 3, 3], [3, 5]]"
      ]
     },
     "execution_count": 79,
     "metadata": {},
     "output_type": "execute_result"
    }
   ],
   "source": [
    "# Ref: https://stackoverflow.com/questions/58415182/function-that-find-combination-of-values-that-sums-to-a-given-number\n",
    "\n",
    "def a(lst, target):\n",
    "    final_list = [] # list to store all the valid results\n",
    "    \n",
    "    def _a(idx, li):\n",
    "        if target == sum(li): final_list.append(li)\n",
    "        elif target < sum(li): return\n",
    "        \n",
    "        for u in range(idx, len(lst)):\n",
    "            _a(u , li + [lst[u]]) # recursive call\n",
    "        return final_list\n",
    "    \n",
    "    return _a(0, []) # initial call\n",
    "\n",
    "a([2,3,5],8)"
   ]
  },
  {
   "cell_type": "markdown",
   "id": "4d86b3a0",
   "metadata": {},
   "source": [
    "```{admonition} Problem: Max Profit\n",
    ":class: dropdown, tip\n",
    "**Asked By - STARBUCKS**\n",
    "\n",
    "Given a list of stock prices in ascending order by datetime, write a function that outputs the max profit by buying and selling at a specific interval.\n",
    "\n",
    "Example:\n",
    "\n",
    "stock_prices = [10,5,20,32,25,12]\n",
    "\n",
    "buy --> 5\n",
    "sell --> 32\n",
    "\n",
    "```"
   ]
  },
  {
   "cell_type": "code",
   "execution_count": 27,
   "id": "379f0ed5",
   "metadata": {
    "tags": [
     "hide-cell"
    ]
   },
   "outputs": [
    {
     "name": "stdout",
     "output_type": "stream",
     "text": [
      "5 32\n"
     ]
    }
   ],
   "source": [
    "stock_prices = [10,5,20,32,25,12]\n",
    "\n",
    "diff = []\n",
    "for i,j in enumerate(stock_prices):\n",
    "    for k in range(i+1,len(stock_prices)):\n",
    "        diff.append(stock_prices[k]-j)\n",
    "        if(len(diff)>2 and (diff[-1]> max(diff[:-1]))):\n",
    "            buy = j\n",
    "            sell = stock_prices[k]\n",
    "\n",
    "print(buy,sell)"
   ]
  }
 ],
 "metadata": {
  "kernelspec": {
   "display_name": "Python 3",
   "language": "python",
   "name": "python3"
  },
  "language_info": {
   "codemirror_mode": {
    "name": "ipython",
    "version": 3
   },
   "file_extension": ".py",
   "mimetype": "text/x-python",
   "name": "python",
   "nbconvert_exporter": "python",
   "pygments_lexer": "ipython3",
   "version": "3.7.4"
  }
 },
 "nbformat": 4,
 "nbformat_minor": 5
}