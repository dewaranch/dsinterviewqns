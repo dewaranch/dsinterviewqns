{
 "cells": [
  {
   "cell_type": "code",
   "execution_count": 1,
   "id": "2fde16d9",
   "metadata": {
    "tags": [
     "hide-cell"
    ]
   },
   "outputs": [
    {
     "data": {
      "text/plain": [
       "<Figure size 640x480 with 1 Axes>"
      ]
     },
     "metadata": {},
     "output_type": "display_data"
    }
   ],
   "source": [
    "import numpy as np\n",
    "import matplotlib.pyplot as plt\n",
    "from scipy import stats\n",
    "\n",
    "def normal_sample_generator(N):\n",
    "    # can be done using np.random.randn or stats.norm.rvs\n",
    "    #x = np.random.randn(N)\n",
    "    x = stats.norm.rvs(size=N)\n",
    "    num_bins = 20\n",
    "    plt.hist(x, bins=num_bins, facecolor='blue', alpha=0.5)\n",
    "\n",
    "    y = np.linspace(-4, 4, N)\n",
    "    bin_width = (x.max() - x.min()) / num_bins\n",
    "    plt.plot(y, stats.norm.pdf(y) * N * bin_width)\n",
    "\n",
    "    plt.show()\n",
    "\n",
    "normal_sample_generator(10000)"
   ]
  },
  {
   "cell_type": "code",
   "execution_count": 2,
   "id": "78869fc4",
   "metadata": {
    "tags": [
     "hide-cell"
    ]
   },
   "outputs": [
    {
     "name": "stdout",
     "output_type": "stream",
     "text": [
      "[37.78, 54.92, 38.97, 50.58, 50.74, 55.95, 54.08, 41.11, 34.69, 37.7, 65.31, 43.94, 47.0, 48.4, 63.89, 57.06, 38.28, 63.05, 35.11, 60.72, 39.67, 55.28, 43.15, 64.66, 64.31, 38.01, 44.55, 52.88, 53.3, 46.11, 35.9, 41.73, 63.67, 59.57, 53.63, 57.56, 52.44, 65.61, 53.38, 62.38, 40.56, 65.3, 62.92, 43.23, 45.95, 38.35, 59.49, 41.44, 44.21, 50.56]\n",
      "Interquartile distance:  -17.495000000000005\n"
     ]
    }
   ],
   "source": [
    "# Interquartile distance is the difference between first and third quartile\n",
    "\n",
    "# first let's generate a list of random numbers\n",
    "\n",
    "import random\n",
    "import numpy as np\n",
    "\n",
    "li = [round(random.uniform(33.33, 66.66), 2) for i in range(50)]\n",
    "print(li)\n",
    "\n",
    "qtl_1 = np.quantile(li,.25)\n",
    "qtl_3 = np.quantile(li,.75)\n",
    "\n",
    "print(\"Interquartile distance: \", qtl_1 - qtl_3)"
   ]
  }
 ],
 "metadata": {
  "kernelspec": {
   "display_name": "Python 3",
   "language": "python",
   "name": "python3"
  },
  "language_info": {
   "codemirror_mode": {
    "name": "ipython",
    "version": 3
   },
   "file_extension": ".py",
   "mimetype": "text/x-python",
   "name": "python",
   "nbconvert_exporter": "python",
   "pygments_lexer": "ipython3",
   "version": "3.7.4"
  }
 },
 "nbformat": 4,
 "nbformat_minor": 5
}