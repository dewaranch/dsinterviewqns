{
 "cells": [
  {
   "cell_type": "markdown",
   "id": "4abca18b",
   "metadata": {},
   "source": [
    "## Data Manipulation"
   ]
  },
  {
   "cell_type": "markdown",
   "id": "d506eede",
   "metadata": {},
   "source": [
    "### Questions"
   ]
  },
  {
   "cell_type": "markdown",
   "id": "e2d38de4",
   "metadata": {},
   "source": [
    "```{admonition} Problem: Score Bucketization\n",
    ":class: dropdown, tip\n",
    "\n",
    "**Asked By - GOOGLE**\n",
    "\n",
    "Let's say you're given a list of standardized test scores from high schoolers from grades $9$ to $12$.\n",
    "\n",
    "Given the dataset, write code in Pandas to return the cumulative percentage of students that received scores within the buckets of $<50, <75, <90, <100$.\n",
    "\n",
    "Example Input:\n",
    "\n",
    "| user_id | grade | test score |\n",
    "|---------|-------|------------|\n",
    "| 1       | 10    | 85         |\n",
    "| 2       | 10    | 60         |\n",
    "| 3       | 11    | 90         |\n",
    "| 4       | 10    | 30         |\n",
    "| 5       | 11    | 99         |\n",
    "\n",
    "Example Output:\n",
    "\n",
    "| grade | test score | percentage |\n",
    "|-------|------------|------------|\n",
    "| 10    | <50        | 30%        |\n",
    "| 10    | <75        | 65%        |\n",
    "| 10    | <90        | 96%        |\n",
    "| 10    | <100       | 99%        |\n",
    "| 11    | <50        | 15%        |\n",
    "| 11    | <75        | 50%        |\n",
    "\n",
    "```"
   ]
  },
  {
   "cell_type": "code",
   "execution_count": 1,
   "id": "02117833",
   "metadata": {
    "tags": [
     "hide-cell"
    ]
   },
   "outputs": [
    {
     "data": {
      "text/html": [
       "<div>\n",
       "<style scoped>\n",
       "    .dataframe tbody tr th:only-of-type {\n",
       "        vertical-align: middle;\n",
       "    }\n",
       "\n",
       "    .dataframe tbody tr th {\n",
       "        vertical-align: top;\n",
       "    }\n",
       "\n",
       "    .dataframe thead th {\n",
       "        text-align: right;\n",
       "    }\n",
       "</style>\n",
       "<table border=\"1\" class=\"dataframe\">\n",
       "  <thead>\n",
       "    <tr style=\"text-align: right;\">\n",
       "      <th></th>\n",
       "      <th>grade</th>\n",
       "      <th>test score</th>\n",
       "      <th>percentage</th>\n",
       "    </tr>\n",
       "  </thead>\n",
       "  <tbody>\n",
       "    <tr>\n",
       "      <th>0</th>\n",
       "      <td>10</td>\n",
       "      <td>&lt;50</td>\n",
       "      <td>33%</td>\n",
       "    </tr>\n",
       "    <tr>\n",
       "      <th>2</th>\n",
       "      <td>10</td>\n",
       "      <td>&lt;75</td>\n",
       "      <td>66%</td>\n",
       "    </tr>\n",
       "    <tr>\n",
       "      <th>4</th>\n",
       "      <td>10</td>\n",
       "      <td>&lt;90</td>\n",
       "      <td>100%</td>\n",
       "    </tr>\n",
       "    <tr>\n",
       "      <th>6</th>\n",
       "      <td>10</td>\n",
       "      <td>&lt;100</td>\n",
       "      <td>100%</td>\n",
       "    </tr>\n",
       "    <tr>\n",
       "      <th>1</th>\n",
       "      <td>11</td>\n",
       "      <td>&lt;50</td>\n",
       "      <td>0%</td>\n",
       "    </tr>\n",
       "    <tr>\n",
       "      <th>3</th>\n",
       "      <td>11</td>\n",
       "      <td>&lt;75</td>\n",
       "      <td>0%</td>\n",
       "    </tr>\n",
       "    <tr>\n",
       "      <th>5</th>\n",
       "      <td>11</td>\n",
       "      <td>&lt;90</td>\n",
       "      <td>0%</td>\n",
       "    </tr>\n",
       "    <tr>\n",
       "      <th>7</th>\n",
       "      <td>11</td>\n",
       "      <td>&lt;100</td>\n",
       "      <td>100%</td>\n",
       "    </tr>\n",
       "  </tbody>\n",
       "</table>\n",
       "</div>"
      ],
      "text/plain": [
       "   grade test score percentage\n",
       "0     10        <50        33%\n",
       "2     10        <75        66%\n",
       "4     10        <90       100%\n",
       "6     10       <100       100%\n",
       "1     11        <50         0%\n",
       "3     11        <75         0%\n",
       "5     11        <90         0%\n",
       "7     11       <100       100%"
      ]
     },
     "execution_count": 1,
     "metadata": {},
     "output_type": "execute_result"
    }
   ],
   "source": [
    "import pandas as pd\n",
    "import numpy as np\n",
    "\n",
    "df = pd.DataFrame([[1,10,85],[2,10,60],[3,11,90],[4,10,30],[5,11,99]], columns = [\"user_id\",\"grade\",\"test score\"])\n",
    "\n",
    "df[\"<50\"] = np.where(df[\"test score\"]<50,1,0)\n",
    "df[\"<75\"] = np.where(df[\"test score\"]<75,1,0)\n",
    "df[\"<90\"] = np.where(df[\"test score\"]<90,1,0)\n",
    "df[\"<100\"] = np.where(df[\"test score\"]<100,1,0)\n",
    "\n",
    "df = df.groupby([\"grade\"])[[\"<50\",\"<75\",\"<90\",\"<100\"]].sum().reset_index()\n",
    "df = df.melt(id_vars=[\"grade\"],var_name=\"test score\",value_name=\"count\")\n",
    "\n",
    "df[\"grp_ttl\"] = df.groupby(\"grade\")[\"count\"].transform('max')\n",
    "df[\"percentage\"] = 100*df[\"count\"]/df[\"grp_ttl\"]\n",
    "\n",
    "df = (df[[\"grade\",\"test score\",\"percentage\"]].copy()).sort_values([\"grade\",\"percentage\"],ascending=True)\n",
    "\n",
    "df[\"percentage\"] = df.percentage.astype(int).astype(str)\n",
    "df[\"percentage\"] = df[\"percentage\"] + \"%\"\n",
    "\n",
    "df.head(10)"
   ]
  }
 ],
 "metadata": {
  "kernelspec": {
   "display_name": "Python 3",
   "language": "python",
   "name": "python3"
  },
  "language_info": {
   "codemirror_mode": {
    "name": "ipython",
    "version": 3
   },
   "file_extension": ".py",
   "mimetype": "text/x-python",
   "name": "python",
   "nbconvert_exporter": "python",
   "pygments_lexer": "ipython3",
   "version": "3.7.4"
  }
 },
 "nbformat": 4,
 "nbformat_minor": 5
}
