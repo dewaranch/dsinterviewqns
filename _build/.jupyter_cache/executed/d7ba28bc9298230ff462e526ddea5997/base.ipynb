{
 "cells": [
  {
   "cell_type": "code",
   "execution_count": 1,
   "id": "2fde16d9",
   "metadata": {
    "tags": [
     "hide-cell"
    ]
   },
   "outputs": [
    {
     "data": {
      "text/plain": [
       "<Figure size 640x480 with 1 Axes>"
      ]
     },
     "metadata": {},
     "output_type": "display_data"
    }
   ],
   "source": [
    "import numpy as np\n",
    "import matplotlib.pyplot as plt\n",
    "from scipy import stats\n",
    "\n",
    "def normal_sample_generator(N):\n",
    "    # can be done using np.random.randn or stats.norm.rvs\n",
    "    #x = np.random.randn(N)\n",
    "    x = stats.norm.rvs(size=N)\n",
    "    num_bins = 20\n",
    "    plt.hist(x, bins=num_bins, facecolor='blue', alpha=0.5)\n",
    "\n",
    "    y = np.linspace(-4, 4, N)\n",
    "    bin_width = (x.max() - x.min()) / num_bins\n",
    "    plt.plot(y, stats.norm.pdf(y) * N * bin_width)\n",
    "\n",
    "    plt.show()\n",
    "\n",
    "normal_sample_generator(10000)"
   ]
  },
  {
   "cell_type": "code",
   "execution_count": 2,
   "id": "78869fc4",
   "metadata": {
    "tags": [
     "hide-cell"
    ]
   },
   "outputs": [
    {
     "name": "stdout",
     "output_type": "stream",
     "text": [
      "[49.53, 65.76, 41.69, 38.73, 52.17, 45.54, 56.74, 49.61, 49.9, 54.94, 65.03, 50.99, 62.34, 35.12, 34.53, 52.08, 46.86, 43.48, 48.72, 62.93, 44.26, 37.15, 58.23, 55.74, 63.11, 62.84, 56.97, 35.3, 66.49, 57.0, 35.0, 61.34, 33.66, 65.99, 36.97, 54.34, 57.48, 43.52, 37.06, 37.0, 60.27, 48.94, 53.12, 48.03, 35.29, 51.83, 55.32, 54.78, 33.97, 46.04]\n",
      "Interquartile distance:  -14.855000000000004\n"
     ]
    }
   ],
   "source": [
    "# Interquartile distance is the difference between first and third quartile\n",
    "\n",
    "# first let's generate a list of random numbers\n",
    "\n",
    "import random\n",
    "import numpy as np\n",
    "\n",
    "li = [round(random.uniform(33.33, 66.66), 2) for i in range(50)]\n",
    "print(li)\n",
    "\n",
    "qtl_1 = np.quantile(li,.25)\n",
    "qtl_3 = np.quantile(li,.75)\n",
    "\n",
    "print(\"Interquartile distance: \", qtl_1 - qtl_3)"
   ]
  }
 ],
 "metadata": {
  "kernelspec": {
   "display_name": "Python 3",
   "language": "python",
   "name": "python3"
  },
  "language_info": {
   "codemirror_mode": {
    "name": "ipython",
    "version": 3
   },
   "file_extension": ".py",
   "mimetype": "text/x-python",
   "name": "python",
   "nbconvert_exporter": "python",
   "pygments_lexer": "ipython3",
   "version": "3.7.4"
  }
 },
 "nbformat": 4,
 "nbformat_minor": 5
}