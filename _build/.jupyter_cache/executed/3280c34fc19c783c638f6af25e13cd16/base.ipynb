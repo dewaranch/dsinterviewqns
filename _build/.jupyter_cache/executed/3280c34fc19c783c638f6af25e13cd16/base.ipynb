{
 "cells": [
  {
   "cell_type": "code",
   "execution_count": 1,
   "id": "e95187c8",
   "metadata": {
    "tags": [
     "hide-cell"
    ]
   },
   "outputs": [
    {
     "name": "stdout",
     "output_type": "stream",
     "text": [
      "True\n",
      "False\n"
     ]
    }
   ],
   "source": [
    "# A string can be a palindrome only if it has even pair of characters and at max 1 odd character\n",
    "\n",
    "\n",
    "def palindrome_checker(txt):\n",
    "        temp = {}\n",
    "        odd_count = 0\n",
    "        even_count = 0\n",
    "        for i in (txt): # Storing characters and their count\n",
    "            if i in temp.keys():\n",
    "                temp[i] = temp[i] + 1\n",
    "            else:\n",
    "                temp[i] = 1\n",
    "        for i in temp: # Check count of characters\n",
    "            if temp[i]%2==0:\n",
    "                even_count = even_count + 1\n",
    "            else:\n",
    "                odd_count = odd_count + 1\n",
    "        if((odd_count>1)or(even_count==0)):\n",
    "            return False\n",
    "        else:\n",
    "            return True    \n",
    "\n",
    "print(palindrome_checker(\"carerac\"))\n",
    "print(palindrome_checker(\"sunset\"))"
   ]
  },
  {
   "cell_type": "code",
   "execution_count": 2,
   "id": "bd1b224a",
   "metadata": {
    "tags": [
     "hide-cell"
    ]
   },
   "outputs": [
    {
     "name": "stdout",
     "output_type": "stream",
     "text": [
      " \n",
      "1  \n",
      "2 3  \n",
      "4 5 6  \n"
     ]
    }
   ],
   "source": [
    "def pyramid(n):\n",
    "    i = 1\n",
    "    j = 1\n",
    "    while i < n:\n",
    "        for k in range(1,j):\n",
    "            print(i, end=' ') # For the second pattern change i to k\n",
    "            i += 1\n",
    "        print(\" \") \n",
    "        j +=1\n",
    "\n",
    "pyramid(6)"
   ]
  },
  {
   "cell_type": "code",
   "execution_count": 3,
   "id": "a5295392",
   "metadata": {
    "tags": [
     "hide-cell"
    ]
   },
   "outputs": [
    {
     "data": {
      "text/plain": [
       "[[2, 2, 2, 2], [2, 3, 3], [3, 5]]"
      ]
     },
     "execution_count": 3,
     "metadata": {},
     "output_type": "execute_result"
    }
   ],
   "source": [
    "# Ref: https://stackoverflow.com/questions/58415182/function-that-find-combination-of-values-that-sums-to-a-given-number\n",
    "\n",
    "def a(lst, target):\n",
    "    final_list = [] # list to store all the valid results\n",
    "    \n",
    "    def _a(idx, li):\n",
    "        if target == sum(li): final_list.append(li)\n",
    "        elif target < sum(li): return\n",
    "        \n",
    "        for u in range(idx, len(lst)):\n",
    "            _a(u , li + [lst[u]]) # recursive call\n",
    "        return final_list\n",
    "    \n",
    "    return _a(0, []) # initial call\n",
    "\n",
    "a([2,3,5],8)"
   ]
  },
  {
   "cell_type": "code",
   "execution_count": 4,
   "id": "ec917e40",
   "metadata": {
    "tags": [
     "hide-cell"
    ]
   },
   "outputs": [
    {
     "name": "stdout",
     "output_type": "stream",
     "text": [
      "5 32\n"
     ]
    }
   ],
   "source": [
    "stock_prices = [10,5,20,32,25,12]\n",
    "\n",
    "diff = []\n",
    "for i,j in enumerate(stock_prices):\n",
    "    for k in range(i+1,len(stock_prices)):\n",
    "        diff.append(stock_prices[k]-j)\n",
    "        if(len(diff)>2 and (diff[-1]> max(diff[:-1]))):\n",
    "            buy = j\n",
    "            sell = stock_prices[k]\n",
    "\n",
    "print(buy,sell)"
   ]
  },
  {
   "cell_type": "code",
   "execution_count": 5,
   "id": "1ec3453a",
   "metadata": {
    "tags": [
     "hide-cell"
    ]
   },
   "outputs": [
    {
     "name": "stdout",
     "output_type": "stream",
     "text": [
      "True\n",
      "False\n",
      "False\n",
      "False\n",
      "True\n"
     ]
    }
   ],
   "source": [
    "def string_map(string1, string2):    \n",
    "    if(string1==string2):\n",
    "        status = True\n",
    "    elif(len(string1)!=len(string2)):\n",
    "        status = False\n",
    "    else:\n",
    "        tempstore = {}\n",
    "        for i,j in enumerate(string1):\n",
    "            if(j in tempstore):               \n",
    "                if(tempstore[j] != string2[i]):\n",
    "                    status = False\n",
    "                    break\n",
    "            elif(string2[i] in tempstore.values()):\n",
    "                    status = False\n",
    "                    break\n",
    "            else:\n",
    "                tempstore[j] = string2[i]\n",
    "                status = True\n",
    "    return status\n",
    "\n",
    "print(string_map('enemy', 'enemy'))\n",
    "print(string_map('enemy', 'yneme'))\n",
    "print(string_map('cat', 'ftt'))\n",
    "print(string_map('ctt', 'fat'))\n",
    "print(string_map('cat', 'fat'))"
   ]
  },
  {
   "cell_type": "code",
   "execution_count": 6,
   "id": "44919361",
   "metadata": {
    "tags": [
     "hide-cell"
    ]
   },
   "outputs": [
    {
     "name": "stdout",
     "output_type": "stream",
     "text": [
      "Array after merging\n",
      "1 2 3 4 5 6 7 8 "
     ]
    }
   ],
   "source": [
    "def mergeArrays(arr1, arr2):\n",
    "    \n",
    "    n1 = len(arr1)\n",
    "    n2 = len(arr2)\n",
    "    arr3 = [None] * (n1 + n2)\n",
    "    i = 0\n",
    "    j = 0\n",
    "    k = 0\n",
    "    # Traverse both array\n",
    "    while i < n1 and j < n2:     \n",
    "        # Check if current element of first array is smaller than current element of second array. \n",
    "        # If yes, store first array element and increment first array index. Otherwise do same with second array\n",
    "        \n",
    "        if arr1[i] < arr2[j]:\n",
    "            arr3[k] = arr1[i]\n",
    "            k = k + 1\n",
    "            i = i + 1\n",
    "        else:\n",
    "            arr3[k] = arr2[j]\n",
    "            k = k + 1\n",
    "            j = j + 1\n",
    "     \n",
    " \n",
    "    # Store remaining elements\n",
    "    # of first array\n",
    "    while i < n1:\n",
    "        arr3[k] = arr1[i];\n",
    "        k = k + 1\n",
    "        i = i + 1\n",
    " \n",
    "    # Store remaining elements\n",
    "    # of second array\n",
    "    while j < n2:\n",
    "        arr3[k] = arr2[j];\n",
    "        k = k + 1\n",
    "        j = j + 1\n",
    "    print(\"Array after merging\")\n",
    "    for i in range(n1 + n2):\n",
    "        print(str(arr3[i]), end = \" \")\n",
    " \n",
    "\n",
    "arr1 = [1, 3, 5, 7]\n",
    "arr2 = [2, 4, 6, 8]\n",
    "mergeArrays(arr1, arr2)\n",
    "\n",
    "# Next coming to the time complexity it is linear as the execution time of the algorithm grows in direct proportion to the size of the data set it is processing.\n",
    "# For merging two arrays, we are always going to iterate through both of them no matter what, \n",
    "# so the number of iterations will always be m+n and the time complexity being O(m+n) where m = len(arr1) and n = len(arr2)"
   ]
  }
 ],
 "metadata": {
  "kernelspec": {
   "display_name": "Python 3",
   "language": "python",
   "name": "python3"
  },
  "language_info": {
   "codemirror_mode": {
    "name": "ipython",
    "version": 3
   },
   "file_extension": ".py",
   "mimetype": "text/x-python",
   "name": "python",
   "nbconvert_exporter": "python",
   "pygments_lexer": "ipython3",
   "version": "3.7.4"
  }
 },
 "nbformat": 4,
 "nbformat_minor": 5
}