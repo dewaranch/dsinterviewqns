{
 "cells": [
  {
   "cell_type": "code",
   "execution_count": 1,
   "id": "1ee343a4",
   "metadata": {
    "tags": [
     "hide-cell"
    ]
   },
   "outputs": [],
   "source": [
    "# A string can be a palindrome only if it has even pair of characters and at max 1 odd character\n",
    "\n",
    "\n",
    "def palindrome_checker(txt):\n",
    "        temp = {}\n",
    "        odd_count = 0\n",
    "        even_count = 0\n",
    "        for i in (txt): # Storing characters and their count\n",
    "            if i in temp.keys():\n",
    "                temp[i] = temp[i] + 1\n",
    "            else:\n",
    "                temp[i] = 1\n",
    "        for i in temp: # Check count of characters\n",
    "            if temp[i]%2==0:\n",
    "                even_count = even_count + 1\n",
    "            else:\n",
    "                odd_count = odd_count + 1\n",
    "        if((odd_count>1)or(even_count==0)):\n",
    "            return False\n",
    "        else:\n",
    "            return True    \n",
    "\n",
    "print(palindrome_checker(\"carerac\"))\n",
    "print(palindrome_checker(\"sunset\"))"
   ]
  },
  {
   "cell_type": "code",
   "execution_count": 2,
   "id": "fd406a1f",
   "metadata": {
    "tags": [
     "hide-cell"
    ]
   },
   "outputs": [
    {
     "name": "stdout",
     "output_type": "stream",
     "text": [
      " \n",
      "1  \n",
      "2 3  \n",
      "4 5 6  \n"
     ]
    }
   ],
   "source": [
    "def pyramid(n):\n",
    "    i = 1\n",
    "    j = 1\n",
    "    while i < n:\n",
    "        for k in range(1,j):\n",
    "            print(i, end=' ') # For the second pattern change i to k\n",
    "            i += 1\n",
    "        print(\" \") \n",
    "        j +=1\n",
    "\n",
    "pyramid(6)"
   ]
  },
  {
   "cell_type": "code",
   "execution_count": 3,
   "id": "ed6ac74a",
   "metadata": {
    "tags": [
     "hide-cell"
    ]
   },
   "outputs": [
    {
     "data": {
      "text/plain": [
       "[[2, 2, 2, 2], [2, 3, 3], [3, 5]]"
      ]
     },
     "execution_count": 3,
     "metadata": {},
     "output_type": "execute_result"
    }
   ],
   "source": [
    "# Ref: https://stackoverflow.com/questions/58415182/function-that-find-combination-of-values-that-sums-to-a-given-number\n",
    "\n",
    "def a(lst, target):\n",
    "    final_list = [] # list to store all the valid results\n",
    "    \n",
    "    def _a(idx, li):\n",
    "        if target == sum(li): final_list.append(li)\n",
    "        elif target < sum(li): return\n",
    "        \n",
    "        for u in range(idx, len(lst)):\n",
    "            _a(u , li + [lst[u]]) # recursive call\n",
    "        return final_list\n",
    "    \n",
    "    return _a(0, []) # initial call\n",
    "\n",
    "a([2,3,5],8)"
   ]
  },
  {
   "cell_type": "code",
   "execution_count": 4,
   "id": "8b56dc71",
   "metadata": {
    "tags": [
     "hide-cell"
    ]
   },
   "outputs": [
    {
     "name": "stdout",
     "output_type": "stream",
     "text": [
      "5 32\n"
     ]
    }
   ],
   "source": [
    "stock_prices = [10,5,20,32,25,12]\n",
    "\n",
    "diff = []\n",
    "for i,j in enumerate(stock_prices):\n",
    "    for k in range(i+1,len(stock_prices)):\n",
    "        diff.append(stock_prices[k]-j)\n",
    "        if(len(diff)>2 and (diff[-1]> max(diff[:-1]))):\n",
    "            buy = j\n",
    "            sell = stock_prices[k]\n",
    "\n",
    "print(buy,sell)"
   ]
  }
 ],
 "metadata": {
  "kernelspec": {
   "display_name": "Python 3",
   "language": "python",
   "name": "python3"
  },
  "language_info": {
   "codemirror_mode": {
    "name": "ipython",
    "version": 3
   },
   "file_extension": ".py",
   "mimetype": "text/x-python",
   "name": "python",
   "nbconvert_exporter": "python",
   "pygments_lexer": "ipython3",
   "version": "3.7.4"
  }
 },
 "nbformat": 4,
 "nbformat_minor": 5
}