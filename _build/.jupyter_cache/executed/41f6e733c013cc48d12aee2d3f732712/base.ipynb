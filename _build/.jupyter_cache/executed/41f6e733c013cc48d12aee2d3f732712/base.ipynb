{
 "cells": [
  {
   "cell_type": "code",
   "execution_count": 1,
   "id": "2fde16d9",
   "metadata": {
    "tags": [
     "hide-cell"
    ]
   },
   "outputs": [
    {
     "data": {
      "text/plain": [
       "<Figure size 640x480 with 1 Axes>"
      ]
     },
     "metadata": {},
     "output_type": "display_data"
    }
   ],
   "source": [
    "import numpy as np\n",
    "import matplotlib.pyplot as plt\n",
    "from scipy import stats\n",
    "\n",
    "def normal_sample_generator(N):\n",
    "    # can be done using np.random.randn or stats.norm.rvs\n",
    "    #x = np.random.randn(N)\n",
    "    x = stats.norm.rvs(size=N)\n",
    "    num_bins = 20\n",
    "    plt.hist(x, bins=num_bins, facecolor='blue', alpha=0.5)\n",
    "\n",
    "    y = np.linspace(-4, 4, N)\n",
    "    bin_width = (x.max() - x.min()) / num_bins\n",
    "    plt.plot(y, stats.norm.pdf(y) * N * bin_width)\n",
    "\n",
    "    plt.show()\n",
    "\n",
    "normal_sample_generator(10000)"
   ]
  },
  {
   "cell_type": "code",
   "execution_count": 2,
   "id": "78869fc4",
   "metadata": {
    "tags": [
     "hide-cell"
    ]
   },
   "outputs": [
    {
     "name": "stdout",
     "output_type": "stream",
     "text": [
      "[59.6, 61.89, 43.82, 62.31, 59.75, 55.43, 64.05, 55.35, 48.14, 46.6, 41.34, 38.95, 37.37, 53.31, 48.46, 43.36, 50.92, 62.74, 64.57, 66.33, 56.59, 61.89, 39.02, 40.89, 49.24, 60.25, 59.36, 41.11, 65.34, 38.02, 53.62, 35.96, 40.68, 60.81, 38.98, 48.43, 34.25, 52.41, 54.6, 65.97, 40.56, 33.38, 50.67, 60.57, 34.74, 49.54, 39.35, 62.36, 51.07, 49.67]\n",
      "Interquartile distance:  -19.18\n"
     ]
    }
   ],
   "source": [
    "# Interquartile distance is the difference between first and third quartile\n",
    "\n",
    "# first let's generate a list of random numbers\n",
    "\n",
    "import random\n",
    "import numpy as np\n",
    "\n",
    "li = [round(random.uniform(33.33, 66.66), 2) for i in range(50)]\n",
    "print(li)\n",
    "\n",
    "qtl_1 = np.quantile(li,.25)\n",
    "qtl_3 = np.quantile(li,.75)\n",
    "\n",
    "print(\"Interquartile distance: \", qtl_1 - qtl_3)"
   ]
  }
 ],
 "metadata": {
  "kernelspec": {
   "display_name": "Python 3",
   "language": "python",
   "name": "python3"
  },
  "language_info": {
   "codemirror_mode": {
    "name": "ipython",
    "version": 3
   },
   "file_extension": ".py",
   "mimetype": "text/x-python",
   "name": "python",
   "nbconvert_exporter": "python",
   "pygments_lexer": "ipython3",
   "version": "3.7.4"
  }
 },
 "nbformat": 4,
 "nbformat_minor": 5
}