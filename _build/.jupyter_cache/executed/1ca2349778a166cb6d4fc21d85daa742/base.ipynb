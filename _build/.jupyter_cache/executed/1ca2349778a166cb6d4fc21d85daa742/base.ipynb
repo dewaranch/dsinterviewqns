{
 "cells": [
  {
   "cell_type": "code",
   "execution_count": 1,
   "id": "2fde16d9",
   "metadata": {
    "tags": [
     "hide-cell"
    ]
   },
   "outputs": [
    {
     "data": {
      "text/plain": [
       "<Figure size 640x480 with 1 Axes>"
      ]
     },
     "metadata": {},
     "output_type": "display_data"
    }
   ],
   "source": [
    "import numpy as np\n",
    "import matplotlib.pyplot as plt\n",
    "from scipy import stats\n",
    "\n",
    "def normal_sample_generator(N):\n",
    "    # can be done using np.random.randn or stats.norm.rvs\n",
    "    #x = np.random.randn(N)\n",
    "    x = stats.norm.rvs(size=N)\n",
    "    num_bins = 20\n",
    "    plt.hist(x, bins=num_bins, facecolor='blue', alpha=0.5)\n",
    "\n",
    "    y = np.linspace(-4, 4, N)\n",
    "    bin_width = (x.max() - x.min()) / num_bins\n",
    "    plt.plot(y, stats.norm.pdf(y) * N * bin_width)\n",
    "\n",
    "    plt.show()\n",
    "\n",
    "normal_sample_generator(10000)"
   ]
  },
  {
   "cell_type": "code",
   "execution_count": 2,
   "id": "78869fc4",
   "metadata": {
    "tags": [
     "hide-cell"
    ]
   },
   "outputs": [
    {
     "name": "stdout",
     "output_type": "stream",
     "text": [
      "[43.98, 62.2, 55.27, 45.74, 42.19, 62.34, 37.13, 53.15, 45.8, 45.7, 55.85, 58.16, 46.46, 57.28, 62.44, 65.23, 38.51, 37.59, 60.73, 40.0, 33.48, 43.28, 62.71, 46.24, 46.06, 33.61, 63.14, 49.88, 58.61, 58.17, 52.23, 47.86, 61.83, 56.42, 65.72, 61.51, 59.48, 63.22, 43.19, 54.76, 54.09, 63.68, 62.72, 53.85, 46.89, 39.88, 54.26, 58.92, 35.29, 46.49]\n",
      "Interquartile distance:  -14.707499999999989\n"
     ]
    }
   ],
   "source": [
    "# Interquartile distance is the difference between first and third quartile\n",
    "\n",
    "# first let's generate a list of random numbers\n",
    "\n",
    "import random\n",
    "import numpy as np\n",
    "\n",
    "li = [round(random.uniform(33.33, 66.66), 2) for i in range(50)]\n",
    "print(li)\n",
    "\n",
    "qtl_1 = np.quantile(li,.25)\n",
    "qtl_3 = np.quantile(li,.75)\n",
    "\n",
    "print(\"Interquartile distance: \", qtl_1 - qtl_3)"
   ]
  }
 ],
 "metadata": {
  "kernelspec": {
   "display_name": "Python 3",
   "language": "python",
   "name": "python3"
  },
  "language_info": {
   "codemirror_mode": {
    "name": "ipython",
    "version": 3
   },
   "file_extension": ".py",
   "mimetype": "text/x-python",
   "name": "python",
   "nbconvert_exporter": "python",
   "pygments_lexer": "ipython3",
   "version": "3.7.4"
  }
 },
 "nbformat": 4,
 "nbformat_minor": 5
}