{
 "cells": [
  {
   "cell_type": "markdown",
   "id": "3788126f",
   "metadata": {},
   "source": [
    "## Basics"
   ]
  },
  {
   "cell_type": "markdown",
   "id": "26aa5dd2",
   "metadata": {},
   "source": [
    "### Questions"
   ]
  },
  {
   "cell_type": "markdown",
   "id": "9b8cde32",
   "metadata": {},
   "source": [
    "```{admonition} Problem: Palindrome Checker\n",
    ":class: dropdown, tip\n",
    "\n",
    "**Asked By - SNAPCHAT**\n",
    "\n",
    "Given a string, determine whether any permutation of it is a palindrome.\n",
    "\n",
    "For example, carerac should return true, since it can be rearranged to form racecar, which is a palindrome. sunset should return false, since there's no rearrangement that can form a palindrome.\n",
    "```"
   ]
  },
  {
   "cell_type": "code",
   "execution_count": 1,
   "id": "4f522a57",
   "metadata": {
    "tags": [
     "hide-cell"
    ]
   },
   "outputs": [
    {
     "name": "stdout",
     "output_type": "stream",
     "text": [
      "True\n",
      "False\n"
     ]
    }
   ],
   "source": [
    "# A string can be a palindrome only if it has even pair of characters and at max 1 odd character\n",
    "\n",
    "\n",
    "def palindrome_checker(txt):\n",
    "        temp = {}\n",
    "        odd_count = 0\n",
    "        even_count = 0\n",
    "        for i in (txt): # Storing characters and their count\n",
    "            if i in temp.keys():\n",
    "                temp[i] = temp[i] + 1\n",
    "            else:\n",
    "                temp[i] = 1\n",
    "        for i in temp: # Check count of characters\n",
    "            if temp[i]%2==0:\n",
    "                even_count = even_count + 1\n",
    "            else:\n",
    "                odd_count = odd_count + 1\n",
    "        if((odd_count>1)or(even_count==0)):\n",
    "            return False\n",
    "        else:\n",
    "            return True    \n",
    "\n",
    "print(palindrome_checker(\"carerac\"))\n",
    "print(palindrome_checker(\"sunset\"))"
   ]
  },
  {
   "cell_type": "markdown",
   "id": "b0de8d0b",
   "metadata": {},
   "source": [
    "```{admonition} Problem: Pattern Generation\n",
    ":class: dropdown, tip\n",
    "Write a function to generate this pattern:\\\n",
    "1\\\n",
    "2 3\\\n",
    "4 5 6\n",
    "\n",
    "Now change the code to output\\\n",
    "1\\\n",
    "1 2\\\n",
    "1 2 3\n",
    "```"
   ]
  },
  {
   "cell_type": "code",
   "execution_count": 27,
   "id": "6b369fd2",
   "metadata": {
    "tags": [
     "hide-cell"
    ]
   },
   "outputs": [
    {
     "name": "stdout",
     "output_type": "stream",
     "text": [
      " \n",
      "1  \n",
      "2 3  \n",
      "4 5 6  \n"
     ]
    }
   ],
   "source": [
    "def pyramid(n):\n",
    "    i = 1\n",
    "    j = 1\n",
    "    while i < n:\n",
    "        for k in range(1,j):\n",
    "            print(i, end=' ') # For the second pattern change i to k\n",
    "            i += 1\n",
    "        print(\" \") \n",
    "        j +=1\n",
    "\n",
    "pyramid(6)"
   ]
  },
  {
   "cell_type": "markdown",
   "id": "a90c9f22",
   "metadata": {},
   "source": [
    "```{admonition} Problem: Sum to N\n",
    ":class: dropdown, tip\n",
    "**Asked By - UBER**\n",
    "Given a list of integers, find all combinations that equal the value N.\n",
    "\n",
    "Example: \n",
    "\n",
    "integers = [2,3,5], target = 8,\n",
    "\n",
    "output = [[2,2,2,2],[2,3,3],[3,5]]\n",
    "```"
   ]
  },
  {
   "cell_type": "code",
   "execution_count": 79,
   "id": "667dc81c",
   "metadata": {
    "tags": [
     "hide-cell"
    ]
   },
   "outputs": [
    {
     "data": {
      "text/plain": [
       "[[2, 2, 2, 2], [2, 3, 3], [3, 5]]"
      ]
     },
     "execution_count": 79,
     "metadata": {},
     "output_type": "execute_result"
    }
   ],
   "source": [
    "# Ref: https://stackoverflow.com/questions/58415182/function-that-find-combination-of-values-that-sums-to-a-given-number\n",
    "\n",
    "def a(lst, target):\n",
    "    final_list = [] # list to store all the valid results\n",
    "    \n",
    "    def _a(idx, li):\n",
    "        if target == sum(li): final_list.append(li)\n",
    "        elif target < sum(li): return\n",
    "        \n",
    "        for u in range(idx, len(lst)):\n",
    "            _a(u , li + [lst[u]]) # recursive call\n",
    "        return final_list\n",
    "    \n",
    "    return _a(0, []) # initial call\n",
    "\n",
    "a([2,3,5],8)"
   ]
  },
  {
   "cell_type": "markdown",
   "id": "f552d1be",
   "metadata": {},
   "source": [
    "```{admonition} Problem: Max Profit\n",
    ":class: dropdown, tip\n",
    "**Asked By - STARBUCKS**\n",
    "\n",
    "Given a list of stock prices in ascending order by datetime, write a function that outputs the max profit by buying and selling at a specific interval.\n",
    "\n",
    "Example:\n",
    "\n",
    "stock_prices = [10,5,20,32,25,12]\n",
    "\n",
    "buy --> 5\n",
    "sell --> 32\n",
    "\n",
    "```"
   ]
  },
  {
   "cell_type": "code",
   "execution_count": 27,
   "id": "648a8afb",
   "metadata": {
    "tags": [
     "hide-cell"
    ]
   },
   "outputs": [
    {
     "name": "stdout",
     "output_type": "stream",
     "text": [
      "5 32\n"
     ]
    }
   ],
   "source": [
    "stock_prices = [10,5,20,32,25,12]\n",
    "\n",
    "diff = []\n",
    "for i,j in enumerate(stock_prices):\n",
    "    for k in range(i+1,len(stock_prices)):\n",
    "        diff.append(stock_prices[k]-j)\n",
    "        if(len(diff)>2 and (diff[-1]> max(diff[:-1]))):\n",
    "            buy = j\n",
    "            sell = stock_prices[k]\n",
    "\n",
    "print(buy,sell)"
   ]
  },
  {
   "cell_type": "markdown",
   "id": "32b8f50a",
   "metadata": {},
   "source": [
    "```{admonition} Problem: Isomorphic string check\n",
    ":class: dropdown, tip\n",
    "**Asked By - IBM**\n",
    "Write a function which will check if each character of string1 can be mapped to a unique character of string2.\n",
    "\n",
    "Example: \n",
    "string1 = 'donut'\n",
    "string2 = 'fatty'\n",
    "\n",
    "string_map(string1, string2) == False # as n and u both get mapped to t\n",
    "\n",
    "string1 = 'enemy'\n",
    "string2 = 'enemy'\n",
    "\n",
    "string_map(string1, string2) == True # as e's get mapped to e even though there is two e\n",
    "\n",
    "string1 = 'enemy'\n",
    "string2 = 'yneme'\n",
    "\n",
    "string_map(string1, string2) == False # as e's dont get mapped uniquely\n",
    "\n",
    "```"
   ]
  },
  {
   "cell_type": "code",
   "execution_count": 49,
   "id": "b2c122dd",
   "metadata": {
    "tags": [
     "hide-cell"
    ]
   },
   "outputs": [
    {
     "name": "stdout",
     "output_type": "stream",
     "text": [
      "True\n",
      "False\n",
      "False\n",
      "False\n",
      "True\n"
     ]
    }
   ],
   "source": [
    "def string_map(string1, string2):    \n",
    "    if(string1==string2):\n",
    "        status = True\n",
    "    elif(len(string1)!=len(string2)):\n",
    "        status = False\n",
    "    else:\n",
    "        tempstore = {}\n",
    "        for i,j in enumerate(string1):\n",
    "            if(j in tempstore):               \n",
    "                if(tempstore[j] != string2[i]):\n",
    "                    status = False\n",
    "                    break\n",
    "            elif(string2[i] in tempstore.values()):\n",
    "                    status = False\n",
    "                    break\n",
    "            else:\n",
    "                tempstore[j] = string2[i]\n",
    "                status = True\n",
    "    return status\n",
    "\n",
    "print(string_map('enemy', 'enemy'))\n",
    "print(string_map('enemy', 'yneme'))\n",
    "print(string_map('cat', 'ftt'))\n",
    "print(string_map('ctt', 'fat'))\n",
    "print(string_map('cat', 'fat'))"
   ]
  }
 ],
 "metadata": {
  "kernelspec": {
   "display_name": "Python 3",
   "language": "python",
   "name": "python3"
  },
  "language_info": {
   "codemirror_mode": {
    "name": "ipython",
    "version": 3
   },
   "file_extension": ".py",
   "mimetype": "text/x-python",
   "name": "python",
   "nbconvert_exporter": "python",
   "pygments_lexer": "ipython3",
   "version": "3.7.4"
  }
 },
 "nbformat": 4,
 "nbformat_minor": 5
}
