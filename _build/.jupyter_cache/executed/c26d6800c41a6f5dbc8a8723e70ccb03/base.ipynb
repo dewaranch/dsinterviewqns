{
 "cells": [
  {
   "cell_type": "code",
   "execution_count": 1,
   "id": "8b1c8867",
   "metadata": {},
   "outputs": [],
   "source": [
    "'''\n",
    "A string can be a palindrome only if it has even pair of characters and at max 1 odd character\n",
    "\n",
    "'''\n",
    "\n",
    "def palindrome_checker(txt):\n",
    "    temp = {}\n",
    "    odd_count = 0\n",
    "    even_count = 0\n",
    "    for i in (txt): # Storing characters and their count\n",
    "        if i in temp.keys():\n",
    "            temp[i] = temp[i] + 1\n",
    "        else:\n",
    "            temp[i] = 1\n",
    "    for i in temp: # Check count of characters\n",
    "        if temp[i]%2==0:\n",
    "            even_count = even_count + 1\n",
    "        else:\n",
    "            odd_count = odd_count + 1\n",
    "    if((odd_count>1)or(even_count==0)):\n",
    "        return False\n",
    "    else:\n",
    "        return True    "
   ]
  },
  {
   "cell_type": "code",
   "execution_count": 2,
   "id": "0c343c1a",
   "metadata": {},
   "outputs": [
    {
     "name": "stdout",
     "output_type": "stream",
     "text": [
      "True\n",
      "False\n"
     ]
    }
   ],
   "source": [
    "print(palindrome_checker(\"carerac\"))\n",
    "print(palindrome_checker(\"sunset\"))"
   ]
  }
 ],
 "metadata": {
  "kernelspec": {
   "display_name": "Python 3",
   "language": "python",
   "name": "python3"
  },
  "language_info": {
   "codemirror_mode": {
    "name": "ipython",
    "version": 3
   },
   "file_extension": ".py",
   "mimetype": "text/x-python",
   "name": "python",
   "nbconvert_exporter": "python",
   "pygments_lexer": "ipython3",
   "version": "3.7.4"
  }
 },
 "nbformat": 4,
 "nbformat_minor": 5
}