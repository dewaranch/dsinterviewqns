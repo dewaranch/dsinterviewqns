{
 "cells": [
  {
   "cell_type": "code",
   "execution_count": 1,
   "id": "2fde16d9",
   "metadata": {
    "tags": [
     "hide-cell"
    ]
   },
   "outputs": [
    {
     "data": {
      "text/plain": [
       "<Figure size 640x480 with 1 Axes>"
      ]
     },
     "metadata": {},
     "output_type": "display_data"
    }
   ],
   "source": [
    "import numpy as np\n",
    "import matplotlib.pyplot as plt\n",
    "from scipy import stats\n",
    "\n",
    "def normal_sample_generator(N):\n",
    "    # can be done using np.random.randn or stats.norm.rvs\n",
    "    #x = np.random.randn(N)\n",
    "    x = stats.norm.rvs(size=N)\n",
    "    num_bins = 20\n",
    "    plt.hist(x, bins=num_bins, facecolor='blue', alpha=0.5)\n",
    "\n",
    "    y = np.linspace(-4, 4, N)\n",
    "    bin_width = (x.max() - x.min()) / num_bins\n",
    "    plt.plot(y, stats.norm.pdf(y) * N * bin_width)\n",
    "\n",
    "    plt.show()\n",
    "\n",
    "normal_sample_generator(10000)"
   ]
  },
  {
   "cell_type": "code",
   "execution_count": 2,
   "id": "78869fc4",
   "metadata": {
    "tags": [
     "hide-cell"
    ]
   },
   "outputs": [
    {
     "name": "stdout",
     "output_type": "stream",
     "text": [
      "[58.19, 41.53, 47.07, 61.55, 59.28, 56.38, 40.13, 54.99, 61.94, 37.81, 59.64, 47.5, 50.88, 55.19, 38.38, 39.33, 38.82, 59.68, 47.89, 51.27, 41.13, 63.67, 36.49, 41.75, 39.16, 38.41, 34.44, 49.21, 49.9, 37.14, 55.2, 38.81, 66.3, 63.49, 43.64, 54.92, 64.14, 64.12, 43.54, 57.24, 62.11, 63.73, 56.01, 36.69, 62.09, 46.9, 38.73, 40.01, 37.98, 55.87]\n",
      "Interquartile distance:  -19.5075\n"
     ]
    }
   ],
   "source": [
    "# Interquartile distance is the difference between first and third quartile\n",
    "\n",
    "# first let's generate a list of random numbers\n",
    "\n",
    "import random\n",
    "import numpy as np\n",
    "\n",
    "li = [round(random.uniform(33.33, 66.66), 2) for i in range(50)]\n",
    "print(li)\n",
    "\n",
    "qtl_1 = np.quantile(li,.25)\n",
    "qtl_3 = np.quantile(li,.75)\n",
    "\n",
    "print(\"Interquartile distance: \", qtl_1 - qtl_3)"
   ]
  }
 ],
 "metadata": {
  "kernelspec": {
   "display_name": "Python 3",
   "language": "python",
   "name": "python3"
  },
  "language_info": {
   "codemirror_mode": {
    "name": "ipython",
    "version": 3
   },
   "file_extension": ".py",
   "mimetype": "text/x-python",
   "name": "python",
   "nbconvert_exporter": "python",
   "pygments_lexer": "ipython3",
   "version": "3.7.4"
  }
 },
 "nbformat": 4,
 "nbformat_minor": 5
}